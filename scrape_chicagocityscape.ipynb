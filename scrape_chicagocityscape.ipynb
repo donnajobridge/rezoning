{
 "cells": [
  {
   "cell_type": "code",
   "execution_count": 3,
   "metadata": {},
   "outputs": [],
   "source": [
    "import requests\n",
    "import bs4"
   ]
  },
  {
   "cell_type": "code",
   "execution_count": 9,
   "metadata": {},
   "outputs": [],
   "source": [
    "with requests.Session() as s:\n",
    "\n",
    "    p = s.post(\"https://www.chicagocityscape.com\", data={\n",
    "        \"email\": 'reclaimfairelections@gmail.com',\n",
    "        \"password\": 'rDxPK7p6W@5f'})\n",
    "\n",
    "    base_page = s.get('https://www.chicagocityscape.com/ordinances.php#/?search_term=O2019-331')\n",
    "    soup = bs4.BeautifulSoup(base_page.content, 'html.parser')\n"
   ]
  },
  {
   "cell_type": "code",
   "execution_count": 23,
   "metadata": {},
   "outputs": [
    {
     "name": "stdout",
     "output_type": "stream",
     "text": [
      "<div id=\"table_tools_ordinances\">\n",
      "<div class=\"row\">\n",
      "<div class=\"col-md-2\">\n",
      "<h4>Download the data</h4>\n",
      "</div>\n",
      "<div class=\"col-md-10\">\n",
      "<div class=\"insert_here\"></div>\n",
      "<p>These data download buttons require a <a href=\"/benefits.php?src=table_tools\">Cityscape Pro membership</a></p>\n",
      "</div>\n",
      "</div><!-- /.row -->\n",
      "</div>\n"
     ]
    }
   ],
   "source": [
    "for f in soup.find_all('table', id='table_ordinances'):\n",
    "    print(f.next_element.next_element)"
   ]
  },
  {
   "cell_type": "code",
   "execution_count": null,
   "metadata": {},
   "outputs": [],
   "source": []
  }
 ],
 "metadata": {
  "kernelspec": {
   "display_name": "Python 3",
   "language": "python",
   "name": "python3"
  },
  "language_info": {
   "codemirror_mode": {
    "name": "ipython",
    "version": 3
   },
   "file_extension": ".py",
   "mimetype": "text/x-python",
   "name": "python",
   "nbconvert_exporter": "python",
   "pygments_lexer": "ipython3",
   "version": "3.6.7"
  }
 },
 "nbformat": 4,
 "nbformat_minor": 2
}
