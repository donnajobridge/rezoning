{
 "cells": [
  {
   "cell_type": "code",
   "execution_count": 1,
   "metadata": {},
   "outputs": [],
   "source": [
    "from selenium import webdriver\n",
    "from selenium.webdriver.common.keys import Keys\n",
    "from selenium.webdriver.support.ui import WebDriverWait\n",
    "from selenium.webdriver.support import expected_conditions as EC\n",
    "from selenium.webdriver.common.by import By\n",
    "from bs4 import BeautifulSoup\n",
    "import csv\n",
    "import time\n",
    "import urllib\n",
    "import re\n",
    "import ast\n",
    "import json"
   ]
  },
  {
   "cell_type": "code",
   "execution_count": 2,
   "metadata": {},
   "outputs": [],
   "source": [
    "# open private input data file for cityscape\n",
    "with open('inputs.txt') as f:\n",
    "    inputs = ast.literal_eval(f.read())"
   ]
  },
  {
   "cell_type": "code",
   "execution_count": 3,
   "metadata": {},
   "outputs": [],
   "source": [
    "# Reclaim login credentials for chicago cityscape\n",
    "main_page = 'https://www.chicagocityscape.com'\n",
    "ord_page = 'https://www.chicagocityscape.com/ordinances.php'"
   ]
  },
  {
   "cell_type": "code",
   "execution_count": 4,
   "metadata": {},
   "outputs": [],
   "source": [
    "def initialize_driver(main_page):\n",
    "    driver = webdriver.Firefox()\n",
    "    driver.get(main_page)\n",
    "    wait = WebDriverWait(driver, 30)\n",
    "    return driver, wait\n",
    "\n",
    "def login_cityscape(driver, wait, email, password):  \n",
    "    # Find sign-in by Google button and click it\n",
    "    elem = driver.find_element_by_partial_link_text('Sign in')\n",
    "    elem.click()\n",
    "    time.sleep(2)\n",
    "    wait.until(EC.presence_of_element_located((By.CLASS_NAME, \"fa-ul\")))\n",
    "    # Find google sign in\n",
    "    goo = driver.find_element_by_partial_link_text('Google')\n",
    "    goo.click()\n",
    "    time.sleep(2)\n",
    "\n",
    "    # Enter Email address and submit\n",
    "    wait.until(EC.presence_of_element_located((By.ID, \"headingText\")))\n",
    "    email_input = driver.find_element_by_id(\"identifierId\")\n",
    "    email_input.send_keys(email)\n",
    "    email_submit = driver.find_element_by_id(\"identifierNext\").click()\n",
    "    time.sleep(2)\n",
    "\n",
    "    \n",
    "    # Enter Password and submit\n",
    "    wait.until(EC.presence_of_element_located((By.ID, \"password\")))\n",
    "    pw_input = driver.find_element_by_name(\"password\")\n",
    "    pw_input.send_keys(password)\n",
    "    pw_submit = driver.find_element_by_id(\"passwordNext\").click()\n",
    "    time.sleep(10)\n",
    "    \n",
    "    return driver, wait"
   ]
  },
  {
   "cell_type": "code",
   "execution_count": 5,
   "metadata": {
    "scrolled": true
   },
   "outputs": [],
   "source": [
    "def search_ord(driver, wait, ord_page, ord_num):\n",
    "    # Go to ordinance search page\n",
    "    driver.get(ord_page)\n",
    "    \n",
    "    # Input ord num in search bar\n",
    "    wait.until(EC.presence_of_element_located((By.CLASS_NAME, \"form-inline\")))\n",
    "    ord_input = driver.find_element_by_id('search_term')\n",
    "    ord_input.send_keys(ord_num)\n",
    "    key = driver.find_element_by_class_name('btn')\n",
    "    key.click()\n",
    "    time.sleep(2)\n",
    "\n",
    "    # Find Details link for ordinance\n",
    "    wait.until(EC.presence_of_element_located((By.ID, \"table_ordinances_wrapper\")))\n",
    "    ord_link = driver.find_element_by_partial_link_text('Details')\n",
    "    ord_link.click()\n",
    "    time.sleep(10)\n",
    "    return driver, wait\n",
    "\n",
    "def find_ord_id(driver, ord_page, ord_dict):\n",
    "    # get search page html to find ordinance id\n",
    "    ord_details = driver.page_source\n",
    "    soup = BeautifulSoup(ord_details, \"html5lib\")\n",
    "    link = ''\n",
    "    for s in soup.find_all('a'):\n",
    "        links = s.get('href')\n",
    "        if links:\n",
    "            if '/ordinances.php?ordinance=' in links:\n",
    "                link = links\n",
    "    ord_suffix = link.split('php')[1]\n",
    "    ord_dict['ord_code_page'] = ord_page + ord_suffix\n",
    "    ord_dict['ord_code'] = ord_suffix[-4:]\n",
    "    return driver, ord_dict"
   ]
  },
  {
   "cell_type": "code",
   "execution_count": 6,
   "metadata": {},
   "outputs": [],
   "source": [
    "def get_ord_html(driver, ord_dict):\n",
    "    driver.get(ord_dict['ord_code_page'])\n",
    "    html = driver.page_source\n",
    "    soup = BeautifulSoup(html, \"html5lib\")\n",
    "    return soup\n",
    "\n",
    "def get_ord_summary(soup, ord_dict):\n",
    "    # get ordinance summary text; add it to dict\n",
    "    for s in soup.find_all('h3'):\n",
    "        if s.next_element == 'Ordinance summary ':\n",
    "            ord_dict['summary'] = s.next_sibling.next_sibling.text\n",
    "    return ord_dict \n",
    "\n",
    "def get_ord_players(soup, ord_dict):\n",
    "    # extract 'more details and place in dict', including key players\n",
    "    for s in soup.find_all('dl', class_='dl-horizontal'):\n",
    "        for d in s.find_all('dt'):\n",
    "            ord_dict[d.text] = d.next_sibling.text  \n",
    "    return ord_dict\n",
    "\n",
    "def get_ord_places(soup, ord_dict):\n",
    "    place_list = ['Community Area', 'Neighborhood', 'ZIP Code']\n",
    "    ward_list = ['Ward (Chicago)']\n",
    "    for s in soup.find_all('div', id='boundaries_printer_wrapper'):\n",
    "        for t in s.find_all('td', class_='sorting_3'):\n",
    "            place = re.split('\\s\\s',t.text)[0]\n",
    "            category = re.split('\\s\\s',t.next_sibling.text)[0]\n",
    "            place = place.split(',')\n",
    "            if category in place_list:\n",
    "                ord_dict[category] = place\n",
    "            if category in ward_list:\n",
    "                ord_dict['Ward'] = place[0]\n",
    "                ord_dict['Ward_Alderman'] = place[1]\n",
    "    return ord_dict\n",
    "\n",
    "def get_all_ord_info(driver, ord_dict):\n",
    "    soup = get_ord_html(driver, ord_dict)\n",
    "    ord_dict = get_ord_summary(soup, ord_dict)\n",
    "    ord_dict = get_ord_players(soup, ord_dict)\n",
    "    ord_dict = get_ord_places(soup, ord_dict)\n",
    "    return ord_dict"
   ]
  },
  {
   "cell_type": "code",
   "execution_count": 7,
   "metadata": {},
   "outputs": [],
   "source": [
    "# debugging\n",
    "# with open('ord_dicts.txt') as f:\n",
    "#     data = ast.literal_eval(f.read())\n",
    "# entry = data[0]\n",
    "\n",
    "# driver, wait = initialize_driver(main_page)\n",
    "# driver, wait = login_cityscape(driver, wait, inputs['email'], inputs['password'])\n",
    "# ord_num = entry['ord']\n",
    "# driver, wait = search_ord(driver, wait, ord_page, ord_num)\n",
    "# driver, entry = find_ord_id(driver, ord_page, entry)\n",
    "# entry = get_all_ord_info(driver, entry)\n",
    "# print(entry)"
   ]
  },
  {
   "cell_type": "code",
   "execution_count": 8,
   "metadata": {},
   "outputs": [],
   "source": [
    "# open data from chicouncilmatic\n",
    "with open('ord_dicts.txt') as f:\n",
    "    data = ast.literal_eval(f.read())\n",
    "ord_list_full = []\n",
    "ord_nums_full = []"
   ]
  },
  {
   "cell_type": "code",
   "execution_count": 9,
   "metadata": {},
   "outputs": [
    {
     "name": "stdout",
     "output_type": "stream",
     "text": [
      "7\n"
     ]
    }
   ],
   "source": [
    "x=1\n",
    "if x==1:\n",
    "    # Run this if appending to existing file\n",
    "    # open data file from cityscape w/ complete info\n",
    "    with open('ord_info_full.txt') as f:\n",
    "        ord_full = ast.literal_eval(f.read())\n",
    "    # append each item to ord_list_full\n",
    "    for item in ord_full:\n",
    "        ord_list_full.append(item)\n",
    "        ord_nums_full.append(item['ord'])     \n",
    "    print(len(ord_nums_full))\n",
    "\n",
    "ord_list_partial = []\n",
    "ord_nums_partial = []\n",
    "# # open data file that contains only partial info (no additional info on cityscape)\n",
    "#     with open('ord_info_partial.txt') as f:\n",
    "#         ord_partial = ast.literal_eval(f.read())\n",
    "\n",
    "#     # append each item to ord_list_partial\n",
    "#     for item in ord_partial:\n",
    "#         ord_list_partial.append(item)\n",
    "#         ord_nums_partial.append(item['ord'])     \n",
    "#     print(len(ord_nums_partial))"
   ]
  },
  {
   "cell_type": "code",
   "execution_count": null,
   "metadata": {},
   "outputs": [],
   "source": [
    "# Initialize driver & log in to cityscape\n",
    "driver, wait = initialize_driver(main_page)\n",
    "driver, wait = login_cityscape(driver, wait, inputs['email'], inputs['password'])\n",
    "# Iterate through ord numbers\n",
    "for entry in data:\n",
    "    ord_num = entry['ord']\n",
    "    \n",
    "    # skip ords that are already in full text file\n",
    "    if ord_num in ord_nums_full:\n",
    "        continue;\n",
    "    \n",
    "    try:\n",
    "        driver, wait = search_ord(driver, wait, ord_page, ord_num)\n",
    "        driver, entry = find_ord_id(driver, ord_page, entry)\n",
    "        entry = get_all_ord_info(driver, entry)\n",
    "        ord_list_full.append(entry)\n",
    "    except:\n",
    "        ord_list_partial.append(entry)\n",
    "        continue"
   ]
  },
  {
   "cell_type": "code",
   "execution_count": null,
   "metadata": {},
   "outputs": [],
   "source": [
    "# write lists to disk as jsons (list of dicts)\n",
    "with open('ord_info_full.txt', 'w') as fout:\n",
    "    fout.write(json.dumps(ord_list_full, indent=4, sort_keys=True, default=str))"
   ]
  },
  {
   "cell_type": "code",
   "execution_count": null,
   "metadata": {},
   "outputs": [],
   "source": [
    "# write lists to disk as jsons (list of dicts)\n",
    "with open('ord_info_partial.txt', 'w') as fout:\n",
    "    fout.write(json.dumps(ord_list_partial, indent=4, sort_keys=True, default=str))"
   ]
  }
 ],
 "metadata": {
  "kernelspec": {
   "display_name": "Python 3",
   "language": "python",
   "name": "python3"
  },
  "language_info": {
   "codemirror_mode": {
    "name": "ipython",
    "version": 3
   },
   "file_extension": ".py",
   "mimetype": "text/x-python",
   "name": "python",
   "nbconvert_exporter": "python",
   "pygments_lexer": "ipython3",
   "version": "3.6.7"
  }
 },
 "nbformat": 4,
 "nbformat_minor": 2
}
