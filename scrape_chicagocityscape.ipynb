{
 "cells": [
  {
   "cell_type": "code",
   "execution_count": 3,
   "metadata": {},
   "outputs": [],
   "source": [
    "from selenium import webdriver\n",
    "from selenium.webdriver.common.keys import Keys\n",
    "from selenium.webdriver.support.ui import WebDriverWait\n",
    "from selenium.webdriver.support import expected_conditions as EC\n",
    "from selenium.webdriver.common.by import By\n",
    "from bs4 import BeautifulSoup\n",
    "import csv\n",
    "import time\n",
    "import urllib\n",
    "import re"
   ]
  },
  {
   "cell_type": "code",
   "execution_count": 4,
   "metadata": {},
   "outputs": [],
   "source": [
    "# Reclaim login credentials for chicago cityscape\n",
    "email = \"reclaimfairelections@gmail.com\"\n",
    "password = \"rDxPK7p6W@5f\"\n",
    "main_page = 'https://www.chicagocityscape.com'\n",
    "ord_page = 'https://www.chicagocityscape.com/ordinances.php'\n",
    "ord_num = 'O2019-331'\n",
    "ord_dict = {}"
   ]
  },
  {
   "cell_type": "code",
   "execution_count": 7,
   "metadata": {},
   "outputs": [],
   "source": [
    "def initialize_driver(main_page):\n",
    "    driver = webdriver.Firefox()\n",
    "    driver.get(main_page)\n",
    "    wait = WebDriverWait(driver, 30)\n",
    "    return driver, wait\n",
    "\n",
    "def login_cityscape(driver, wait, email, password):  \n",
    "    # Find sign-in by Google button and click it\n",
    "    elem = driver.find_element_by_partial_link_text('Sign in')\n",
    "    elem.click()\n",
    "    time.sleep(2)\n",
    "    wait.until(EC.presence_of_element_located((By.CLASS_NAME, \"fa-ul\")))\n",
    "    # Find google sign in\n",
    "    goo = driver.find_element_by_partial_link_text('Google')\n",
    "    goo.click()\n",
    "    time.sleep(2)\n",
    "\n",
    "    # Enter Email address and submit\n",
    "    wait.until(EC.presence_of_element_located((By.ID, \"headingText\")))\n",
    "    email_input = driver.find_element_by_id(\"identifierId\")\n",
    "    email_input.send_keys(email)\n",
    "    email_submit = driver.find_element_by_id(\"identifierNext\").click()\n",
    "    time.sleep(2)\n",
    "\n",
    "    \n",
    "    # Enter Password and submit\n",
    "    wait.until(EC.presence_of_element_located((By.ID, \"password\")))\n",
    "    pw_input = driver.find_element_by_name(\"password\")\n",
    "    pw_input.send_keys(password)\n",
    "    pw_submit = driver.find_element_by_id(\"passwordNext\").click()\n",
    "    time.sleep(10)\n",
    "    \n",
    "    return driver, wait"
   ]
  },
  {
   "cell_type": "code",
   "execution_count": 81,
   "metadata": {
    "scrolled": true
   },
   "outputs": [],
   "source": [
    "def search_ord(driver, ord_page, ord_num):\n",
    "    # Go to ordinance search page\n",
    "    driver.get(ord_page)\n",
    "#     wait.until(EC.presence_of_element_located((By.CLASS_NAME, \"form-inline\")))\n",
    "    \n",
    "    # Input ord num in search bar\n",
    "    ord_input = driver.find_element_by_id('search_term')\n",
    "    ord_input.send_keys(ord_num)\n",
    "    key = driver.find_element_by_class_name('btn')\n",
    "    key.click()\n",
    "    time.sleep(2)\n",
    "    # Find Details link for ordinance\n",
    "#     wait.until(EC.presence_of_element_located((By.ID, \"table_ordinances_wrapper\")))\n",
    "    ord_link = driver.find_element_by_partial_link_text('Details')\n",
    "    ord_link.click()\n",
    "    time.sleep(10)\n",
    "    return driver\n",
    "\n",
    "def find_ord_id(driver, ord_page):\n",
    "    # get search page html to find ordinance id\n",
    "#     wait.until(EC.presence_of_element_located((By.CLASS_NAME, \"dl-horizontal\")))\n",
    "    ord_details = driver.page_source\n",
    "    soup = BeautifulSoup(ord_details, \"html5lib\")\n",
    "    link = ''\n",
    "    for s in soup.find_all('a'):\n",
    "        links = s.get('href')\n",
    "        if links:\n",
    "            if '/ordinances.php?ordinance=' in links:\n",
    "                link = links\n",
    "    ord_code = link.split('php')[1]\n",
    "    ord_code_page = ord_page + ord_code\n",
    "    return ord_code_page, driver"
   ]
  },
  {
   "cell_type": "code",
   "execution_count": 82,
   "metadata": {},
   "outputs": [],
   "source": [
    "def get_ord_html(driver, ord_page):\n",
    "    driver.get(ord_code_page)\n",
    "    html = driver.page_source\n",
    "    soup = BeautifulSoup(html, \"html5lib\")\n",
    "    return soup\n",
    "\n",
    "def get_ord_summary(soup, ord_dict):\n",
    "    # get ordinance summary text; add it to dict\n",
    "    for s in soup.find_all('h3'):\n",
    "        if s.next_element == 'Ordinance summary ':\n",
    "            ord_dict['summary'] = s.next_sibling.next_sibling.text\n",
    "    return ord_dict \n",
    "\n",
    "def get_ord_players(soup, ord_dict):\n",
    "    # extract 'more details and place in dict', including key players\n",
    "    for s in soup.find_all('dl', class_='dl-horizontal'):\n",
    "        for d in s.find_all('dt'):\n",
    "            ord_dict[d.text] = d.next_sibling.text  \n",
    "    return ord_dict     \n",
    "\n",
    "def get_ord_places(soup, ord_dict):\n",
    "    place_list = ['Community Area', 'Neighborhood', 'ZIP Code']\n",
    "    ward_list = ['Ward (Chicago)']\n",
    "    for s in soup.find_all('div', id='boundaries_printer_wrapper'):\n",
    "        for t in s.find_all('td', class_='sorting_3'):\n",
    "            place = re.split('\\s\\s',t.text)[0]\n",
    "            category = re.split('\\s\\s',t.next_sibling.text)[0]\n",
    "            place = place.split(',')\n",
    "            if category in place_list:\n",
    "                ord_dict[category] = place\n",
    "            if category in ward_list:\n",
    "                ord_dict['Ward'] = place[0]\n",
    "                ord_dict['Ward_Alderman'] = place[1]\n",
    "    return ord_dict"
   ]
  },
  {
   "cell_type": "code",
   "execution_count": null,
   "metadata": {},
   "outputs": [],
   "source": [
    "driver, wait = initialize_driver(main_page)\n",
    "driver,wait = login_cityscape(driver, wait, email, password)"
   ]
  },
  {
   "cell_type": "code",
   "execution_count": 84,
   "metadata": {},
   "outputs": [
    {
     "ename": "TimeoutException",
     "evalue": "Message: \n",
     "output_type": "error",
     "traceback": [
      "\u001b[0;31m---------------------------------------------------------------------------\u001b[0m",
      "\u001b[0;31mTimeoutException\u001b[0m                          Traceback (most recent call last)",
      "\u001b[0;32m<ipython-input-84-0a580ed13c40>\u001b[0m in \u001b[0;36m<module>\u001b[0;34m\u001b[0m\n\u001b[0;32m----> 1\u001b[0;31m \u001b[0mdriver\u001b[0m \u001b[0;34m=\u001b[0m \u001b[0mlogin_cityscape\u001b[0m\u001b[0;34m(\u001b[0m\u001b[0mdriver\u001b[0m\u001b[0;34m,\u001b[0m \u001b[0memail\u001b[0m\u001b[0;34m,\u001b[0m \u001b[0mpassword\u001b[0m\u001b[0;34m)\u001b[0m\u001b[0;34m\u001b[0m\u001b[0;34m\u001b[0m\u001b[0m\n\u001b[0m\u001b[1;32m      2\u001b[0m \u001b[0mdriver\u001b[0m \u001b[0;34m=\u001b[0m \u001b[0msearch_ord\u001b[0m\u001b[0;34m(\u001b[0m\u001b[0mdriver\u001b[0m\u001b[0;34m,\u001b[0m \u001b[0mord_page\u001b[0m\u001b[0;34m,\u001b[0m \u001b[0mord_num\u001b[0m\u001b[0;34m)\u001b[0m\u001b[0;34m\u001b[0m\u001b[0;34m\u001b[0m\u001b[0m\n",
      "\u001b[0;32m<ipython-input-78-aa1b8b4e5280>\u001b[0m in \u001b[0;36mlogin_cityscape\u001b[0;34m(driver, email, password)\u001b[0m\n\u001b[1;32m     17\u001b[0m \u001b[0;34m\u001b[0m\u001b[0m\n\u001b[1;32m     18\u001b[0m     \u001b[0;31m# Enter Email address and submit\u001b[0m\u001b[0;34m\u001b[0m\u001b[0;34m\u001b[0m\u001b[0;34m\u001b[0m\u001b[0m\n\u001b[0;32m---> 19\u001b[0;31m     \u001b[0mwait\u001b[0m\u001b[0;34m.\u001b[0m\u001b[0muntil\u001b[0m\u001b[0;34m(\u001b[0m\u001b[0mEC\u001b[0m\u001b[0;34m.\u001b[0m\u001b[0mpresence_of_element_located\u001b[0m\u001b[0;34m(\u001b[0m\u001b[0;34m(\u001b[0m\u001b[0mBy\u001b[0m\u001b[0;34m.\u001b[0m\u001b[0mID\u001b[0m\u001b[0;34m,\u001b[0m \u001b[0;34m\"headingText\"\u001b[0m\u001b[0;34m)\u001b[0m\u001b[0;34m)\u001b[0m\u001b[0;34m)\u001b[0m\u001b[0;34m\u001b[0m\u001b[0;34m\u001b[0m\u001b[0m\n\u001b[0m\u001b[1;32m     20\u001b[0m     \u001b[0memail_input\u001b[0m \u001b[0;34m=\u001b[0m \u001b[0mdriver\u001b[0m\u001b[0;34m.\u001b[0m\u001b[0mfind_element_by_id\u001b[0m\u001b[0;34m(\u001b[0m\u001b[0;34m\"identifierId\"\u001b[0m\u001b[0;34m)\u001b[0m\u001b[0;34m\u001b[0m\u001b[0;34m\u001b[0m\u001b[0m\n\u001b[1;32m     21\u001b[0m     \u001b[0memail_input\u001b[0m\u001b[0;34m.\u001b[0m\u001b[0msend_keys\u001b[0m\u001b[0;34m(\u001b[0m\u001b[0memail\u001b[0m\u001b[0;34m)\u001b[0m\u001b[0;34m\u001b[0m\u001b[0;34m\u001b[0m\u001b[0m\n",
      "\u001b[0;32m~/.pyenv/versions/3.6.7/lib/python3.6/site-packages/selenium/webdriver/support/wait.py\u001b[0m in \u001b[0;36muntil\u001b[0;34m(self, method, message)\u001b[0m\n\u001b[1;32m     78\u001b[0m             \u001b[0;32mif\u001b[0m \u001b[0mtime\u001b[0m\u001b[0;34m.\u001b[0m\u001b[0mtime\u001b[0m\u001b[0;34m(\u001b[0m\u001b[0;34m)\u001b[0m \u001b[0;34m>\u001b[0m \u001b[0mend_time\u001b[0m\u001b[0;34m:\u001b[0m\u001b[0;34m\u001b[0m\u001b[0;34m\u001b[0m\u001b[0m\n\u001b[1;32m     79\u001b[0m                 \u001b[0;32mbreak\u001b[0m\u001b[0;34m\u001b[0m\u001b[0;34m\u001b[0m\u001b[0m\n\u001b[0;32m---> 80\u001b[0;31m         \u001b[0;32mraise\u001b[0m \u001b[0mTimeoutException\u001b[0m\u001b[0;34m(\u001b[0m\u001b[0mmessage\u001b[0m\u001b[0;34m,\u001b[0m \u001b[0mscreen\u001b[0m\u001b[0;34m,\u001b[0m \u001b[0mstacktrace\u001b[0m\u001b[0;34m)\u001b[0m\u001b[0;34m\u001b[0m\u001b[0;34m\u001b[0m\u001b[0m\n\u001b[0m\u001b[1;32m     81\u001b[0m \u001b[0;34m\u001b[0m\u001b[0m\n\u001b[1;32m     82\u001b[0m     \u001b[0;32mdef\u001b[0m \u001b[0muntil_not\u001b[0m\u001b[0;34m(\u001b[0m\u001b[0mself\u001b[0m\u001b[0;34m,\u001b[0m \u001b[0mmethod\u001b[0m\u001b[0;34m,\u001b[0m \u001b[0mmessage\u001b[0m\u001b[0;34m=\u001b[0m\u001b[0;34m''\u001b[0m\u001b[0;34m)\u001b[0m\u001b[0;34m:\u001b[0m\u001b[0;34m\u001b[0m\u001b[0;34m\u001b[0m\u001b[0m\n",
      "\u001b[0;31mTimeoutException\u001b[0m: Message: \n"
     ]
    }
   ],
   "source": [
    "driver = search_ord(driver, wait, ord_page, ord_num)"
   ]
  },
  {
   "cell_type": "code",
   "execution_count": null,
   "metadata": {},
   "outputs": [],
   "source": []
  },
  {
   "cell_type": "code",
   "execution_count": 13,
   "metadata": {},
   "outputs": [],
   "source": [
    "ord_code_page, driver = find_ord_id(driver)"
   ]
  },
  {
   "cell_type": "code",
   "execution_count": 14,
   "metadata": {},
   "outputs": [],
   "source": []
  },
  {
   "cell_type": "code",
   "execution_count": 15,
   "metadata": {},
   "outputs": [],
   "source": []
  },
  {
   "cell_type": "code",
   "execution_count": 18,
   "metadata": {},
   "outputs": [],
   "source": []
  },
  {
   "cell_type": "code",
   "execution_count": 19,
   "metadata": {},
   "outputs": [],
   "source": [
    "\n"
   ]
  },
  {
   "cell_type": "code",
   "execution_count": 20,
   "metadata": {},
   "outputs": [],
   "source": [
    "                      "
   ]
  },
  {
   "cell_type": "code",
   "execution_count": 60,
   "metadata": {},
   "outputs": [
    {
     "data": {
      "text/plain": [
       "{'summary': 'Construction of a residential development containing 152 dwelling units and 179 parking spaces, together with accessory and incidental uses.',\n",
       " 'Architect': '',\n",
       " 'Owner': 'Seritage SRC Finance LLC',\n",
       " 'Applicant': 'Seritage SRC Finance LLC',\n",
       " 'Lawyer': 'Rich Klawiter & Katie Jahnke Dale',\n",
       " 'Law firm': 'DLA Piper LLP (US)',\n",
       " 'Community Area': ['Austin'],\n",
       " 'Neighborhood': ['Galewood'],\n",
       " 'ward': '29th Ward',\n",
       " 'ward_alderman': ' Alder Chris Taliaferro',\n",
       " 'ZIP Code': ['60707'],\n",
       " 'Ward': '29th Ward',\n",
       " 'Ward_Alderman': ' Alder Chris Taliaferro'}"
      ]
     },
     "execution_count": 60,
     "metadata": {},
     "output_type": "execute_result"
    }
   ],
   "source": [
    "\n"
   ]
  },
  {
   "cell_type": "code",
   "execution_count": null,
   "metadata": {},
   "outputs": [],
   "source": []
  }
 ],
 "metadata": {
  "kernelspec": {
   "display_name": "Python 3",
   "language": "python",
   "name": "python3"
  },
  "language_info": {
   "codemirror_mode": {
    "name": "ipython",
    "version": 3
   },
   "file_extension": ".py",
   "mimetype": "text/x-python",
   "name": "python",
   "nbconvert_exporter": "python",
   "pygments_lexer": "ipython3",
   "version": "3.6.7"
  }
 },
 "nbformat": 4,
 "nbformat_minor": 2
}
