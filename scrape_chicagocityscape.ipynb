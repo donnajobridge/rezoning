{
 "cells": [
  {
   "cell_type": "code",
   "execution_count": null,
   "metadata": {},
   "outputs": [],
   "source": [
    "import requests\n",
    "from bs4 import BeautifulSoup\n",
    "import http.cookiejar\n",
    "import mechanize\n",
    "import urllib"
   ]
  },
  {
   "cell_type": "code",
   "execution_count": null,
   "metadata": {},
   "outputs": [],
   "source": [
    "class SessionGoogle:\n",
    "    def __init__(self, url_login, url_auth, login, pwd):\n",
    "        self.ses = requests.session()\n",
    "        login_html = self.ses.get(url_login)\n",
    "        soup_login = BeautifulSoup(login_html.content).find('form').find_all('input')\n",
    "        my_dict = {}\n",
    "        for u in soup_login:\n",
    "            if u.has_attr('value'):\n",
    "                my_dict[u['name']] = u['value']\n",
    "        # override the inputs without login and pwd:\n",
    "        my_dict['Email'] = login\n",
    "        my_dict['Passwd'] = pwd\n",
    "        self.ses.post(url_auth, data=my_dict)\n",
    "\n",
    "    def get(self, URL):\n",
    "        return self.ses.get(URL).text"
   ]
  },
  {
   "cell_type": "code",
   "execution_count": null,
   "metadata": {},
   "outputs": [],
   "source": [
    "url_login = \"https://www.chicagocityscape.com/account.php\"\n",
    "url_auth = \"https://www.chicagocityscape.com/account.php/account.php?provider=google&src=\"\n",
    "session = SessionGoogle(url_login, url_auth, \"reclaimfairelections@gmail.com\", \"rDxPK7p6W@5f\")\n",
    "base = session.get(\"https://www.chicagocityscape.com/ordinances.php#/?type=zoning&search_term=O2019-331\")\n",
    "soup = BeautifulSoup(base, 'html.parser')"
   ]
  },
  {
   "cell_type": "code",
   "execution_count": null,
   "metadata": {
    "scrolled": true
   },
   "outputs": [],
   "source": [
    "for x in soup.find_all('a'):\n",
    "    print(x)"
   ]
  },
  {
   "cell_type": "code",
   "execution_count": null,
   "metadata": {},
   "outputs": [],
   "source": [
    "with requests.Session() as s:\n",
    "\n",
    "    p = s.post(\"https://www.chicagocityscape.com/account.php?provider=google&src=\", \n",
    "               data={'action': 'login',\n",
    "        \"email\": 'reclaimfairelections@gmail.com',\n",
    "        \"password\": 'rDxPK7p6W@5f'})\n",
    "#     s.get('href')\n",
    "    print(p.text)\n",
    "#     base_page = s.get('https://www.chicagocityscape.com/ordinances.php?ordinance=6588&key=WwpHU6SLdp')\n",
    "    base_page = s.get('https://www.chicagocityscape.com')\n",
    "\n",
    "    soup = bs4.BeautifulSoup(base_page.content, 'html.parser')\n"
   ]
  },
  {
   "cell_type": "code",
   "execution_count": 4,
   "metadata": {},
   "outputs": [],
   "source": [
    "from selenium import webdriver\n",
    "from selenium.webdriver.common.keys import Keys\n",
    "from selenium.webdriver.support.ui import WebDriverWait\n",
    "from selenium.webdriver.support import expected_conditions as EC\n",
    "from selenium.webdriver.common.by import By\n",
    "from bs4 import BeautifulSoup\n",
    "import csv\n",
    "import time"
   ]
  },
  {
   "cell_type": "code",
   "execution_count": 5,
   "metadata": {},
   "outputs": [],
   "source": [
    "# Replace this with whatever topic page you'd like to scrape\n",
    "ord_search_page = 'https://www.chicagocityscape.com/ordinances.php#/?type=zoning&search_term=O2019-331'\n",
    "\n",
    "# Put your email and password in these variables, make sure to have the quotation marks around them\n",
    "email = \"reclaimfairelections@gmail.com\"\n",
    "pswd = \"rDxPK7p6W@5f\"\n"
   ]
  },
  {
   "cell_type": "code",
   "execution_count": 6,
   "metadata": {},
   "outputs": [],
   "source": [
    "# Initialize webdriver\n",
    "driver = webdriver.Firefox()\n",
    "driver.get(\"https://www.chicagocityscape.com\")\n",
    "wait = WebDriverWait(driver, 30)"
   ]
  },
  {
   "cell_type": "code",
   "execution_count": 7,
   "metadata": {
    "scrolled": true
   },
   "outputs": [],
   "source": [
    "# Find sign-in by Google button and click it\n",
    "elem = driver.find_element_by_partial_link_text('Sign in')\n",
    "elem.click()\n",
    "time.sleep(2)\n",
    "goo = driver.find_element_by_partial_link_text('Google')\n",
    "goo.click()\n",
    "time.sleep(2)"
   ]
  },
  {
   "cell_type": "code",
   "execution_count": 8,
   "metadata": {},
   "outputs": [],
   "source": [
    "# Enter Email address and submit\n",
    "email_input = driver.find_element_by_id(\"identifierId\")\n",
    "email_input.send_keys(email)\n",
    "email_submit = driver.find_element_by_id(\"identifierNext\").click()"
   ]
  },
  {
   "cell_type": "code",
   "execution_count": 9,
   "metadata": {},
   "outputs": [
    {
     "data": {
      "text/plain": [
       "<selenium.webdriver.firefox.webelement.FirefoxWebElement (session=\"88b8dc6a-3465-574e-a02d-b2f38e9a5312\", element=\"04499c1a-2274-b249-8cde-72ad4c47a67f\")>"
      ]
     },
     "execution_count": 9,
     "metadata": {},
     "output_type": "execute_result"
    }
   ],
   "source": [
    "wait.until(EC.presence_of_element_located((By.ID, \"password\")))"
   ]
  },
  {
   "cell_type": "code",
   "execution_count": 10,
   "metadata": {},
   "outputs": [],
   "source": [
    "# Enter Password and submit\n",
    "pw_input = driver.find_element_by_name(\"password\")\n",
    "pw_input.send_keys(pswd)"
   ]
  },
  {
   "cell_type": "code",
   "execution_count": 12,
   "metadata": {},
   "outputs": [],
   "source": [
    "pw_submit = driver.find_element_by_id(\"passwordNext\").click()\n",
    "time.sleep(10)"
   ]
  },
  {
   "cell_type": "code",
   "execution_count": 21,
   "metadata": {},
   "outputs": [],
   "source": [
    "ord_page = 'https://www.chicagocityscape.com/ordinances.php#/?type=zoning&search_term=O2019-331'\n",
    "driver.get(ord_page)"
   ]
  },
  {
   "cell_type": "code",
   "execution_count": null,
   "metadata": {},
   "outputs": [],
   "source": []
  }
 ],
 "metadata": {
  "kernelspec": {
   "display_name": "Python 3",
   "language": "python",
   "name": "python3"
  },
  "language_info": {
   "codemirror_mode": {
    "name": "ipython",
    "version": 3
   },
   "file_extension": ".py",
   "mimetype": "text/x-python",
   "name": "python",
   "nbconvert_exporter": "python",
   "pygments_lexer": "ipython3",
   "version": "3.6.7"
  }
 },
 "nbformat": 4,
 "nbformat_minor": 2
}
