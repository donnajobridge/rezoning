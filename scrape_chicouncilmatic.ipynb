{
 "cells": [
  {
   "cell_type": "code",
   "execution_count": null,
   "metadata": {},
   "outputs": [],
   "source": [
    "import os.path\n",
    "import bs4\n",
    "import urllib\n",
    "import datetime\n",
    "import json"
   ]
  },
  {
   "cell_type": "code",
   "execution_count": null,
   "metadata": {},
   "outputs": [],
   "source": [
    "base = 'https://chicago.councilmatic.org/'\n",
    "suffix = '/search/?selected_facets=topics_exact%3AZoning+Reclassification'\n",
    "page_query = '&page={num}'\n",
    "resp = urllib.request.urlopen(base + suffix + page_query.format(num=1))\n",
    "soup = bs4.BeautifulSoup(resp.read(), \"html5lib\")"
   ]
  },
  {
   "cell_type": "code",
   "execution_count": null,
   "metadata": {},
   "outputs": [],
   "source": [
    "def get_ords(link):\n",
    "    ord_info = {}\n",
    "    ord_info['ord'] = link.contents[0].split()[1]\n",
    "    ord_info['href'] = link.get('href')\n",
    "    ord_info['status'] = str(link.next_element.next_element.next_element.string).strip()\n",
    "    \n",
    "    cal = link.parent.next_sibling.next_sibling.next_sibling.next_sibling\n",
    "    date_string = cal.find('i', class_='fa fa-fw fa-calendar-o').next_element.split('-')[0].strip()\n",
    "    date = [int(x) for x in date_string.split('/')]\n",
    "    ord_info['date'] = datetime.date(date[2], date[0], date[1])\n",
    "    ord_info['year'] = ord_info['date'].year\n",
    "    return ord_info\n",
    "\n",
    "\n",
    "def get_locs(inner_soup, ord_info):\n",
    "    '''get locations mentioned in ordinance'''\n",
    "    locs = []\n",
    "    for inner_link in inner_soup.find_all('ul', class_='list-unstyled'):\n",
    "        if str(inner_link.previous_element.previous_element).strip() == 'Locations mentioned':\n",
    "            for list_item in inner_link.find_all('li'):\n",
    "                locs.append(list_item.string.strip())\n",
    "    ord_info['locations'] = locs\n",
    "    return ord_info['locations']\n",
    "\n",
    "\n",
    "def get_sponsors(inner_soup):\n",
    "    sponsors = []\n",
    "    wards = []\n",
    "    inner_link = inner_soup.find('div', class_='table-responsive')\n",
    "    spo = 1\n",
    "    war = 1\n",
    "    for col in inner_link.find_all('td'):\n",
    "        if col.find('a'):\n",
    "            sponsors.append(col.a.string.strip())\n",
    "            spo += 1\n",
    "        if col.string:\n",
    "            wards.append(col.string.strip())\n",
    "            war +=1\n",
    "    return sponsors,wards"
   ]
  },
  {
   "cell_type": "code",
   "execution_count": null,
   "metadata": {},
   "outputs": [],
   "source": [
    "ord_list = []\n",
    "page_num = 0\n",
    "while True:\n",
    "    page_num = page_num+1\n",
    "    try:\n",
    "        resp = urllib.request.urlopen(base + suffix + page_query.format(num=page_num))\n",
    "        soup = bs4.BeautifulSoup(resp.read(), \"html5lib\")\n",
    "        \n",
    "        '''loop through each ordinance on main search page'''\n",
    "        for link in soup.find_all('a', class_='small'):\n",
    "            ord_info = get_ords(link)\n",
    "            if ord_info['year'] < 2015:\n",
    "                break\n",
    "    \n",
    "            '''go to ordinance page to get additional info'''\n",
    "            inner_resp = urllib.request.urlopen(base+ord_info['href'])\n",
    "            inner_soup = bs4.BeautifulSoup(inner_resp.read(), \"html5lib\")\n",
    "    \n",
    "            ord_info['locations'] = get_locs(inner_soup, ord_info)\n",
    "            sponsors, spo_wards = get_sponsors(inner_soup)\n",
    "            ord_info['sponsors'] = sponsors\n",
    "            ord_info['sponsor_ward'] = spo_wards\n",
    "\n",
    "            '''append dict to list'''\n",
    "\n",
    "            ord_list.append(ord_info)\n",
    "            \n",
    "    except:\n",
    "        break\n"
   ]
  },
  {
   "cell_type": "code",
   "execution_count": null,
   "metadata": {},
   "outputs": [],
   "source": [
    "with open('ord_dicts.txt', 'w') as fout:\n",
    "    fout.write(json.dumps(ord_list, indent=4, sort_keys=True, default=str))"
   ]
  },
  {
   "cell_type": "code",
   "execution_count": null,
   "metadata": {},
   "outputs": [],
   "source": []
  }
 ],
 "metadata": {
  "kernelspec": {
   "display_name": "Python 3",
   "language": "python",
   "name": "python3"
  },
  "language_info": {
   "codemirror_mode": {
    "name": "ipython",
    "version": 3
   },
   "file_extension": ".py",
   "mimetype": "text/x-python",
   "name": "python",
   "nbconvert_exporter": "python",
   "pygments_lexer": "ipython3",
   "version": "3.6.7"
  }
 },
 "nbformat": 4,
 "nbformat_minor": 2
}
